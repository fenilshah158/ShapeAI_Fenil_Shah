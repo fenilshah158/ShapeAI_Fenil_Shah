{
  "nbformat": 4,
  "nbformat_minor": 0,
  "metadata": {
    "colab": {
      "name": "Fenil_shah.ipynb",
      "provenance": []
    },
    "kernelspec": {
      "name": "python3",
      "display_name": "Python 3"
    },
    "language_info": {
      "name": "python"
    }
  },
  "cells": [
    {
      "cell_type": "markdown",
      "metadata": {
        "id": "WPMs15Y-np7e"
      },
      "source": [
        "1) Write a Program in python to generate MD5 of String data"
      ]
    },
    {
      "cell_type": "code",
      "metadata": {
        "colab": {
          "base_uri": "https://localhost:8080/"
        },
        "id": "QfV9cjbpaQCo",
        "outputId": "d52bac78-28e7-4e16-e169-5742121786e9"
      },
      "source": [
        "import hashlib\n",
        "str = input('Enter string: ')\n",
        "print(\"MD5 Encryption :\" ,hashlib.md5(str.encode()).hexdigest())"
      ],
      "execution_count": 37,
      "outputs": [
        {
          "output_type": "stream",
          "text": [
            "Enter string: fenil\n",
            "MD5 Encryption : 30815b880d6260921ca40f1f05a0aded\n"
          ],
          "name": "stdout"
        }
      ]
    },
    {
      "cell_type": "markdown",
      "metadata": {
        "id": "yT4IA96noWi2"
      },
      "source": [
        "2) Write a program in python to generate hashes of string data using 3 algorithms from\n",
        "hashlib"
      ]
    },
    {
      "cell_type": "code",
      "metadata": {
        "colab": {
          "base_uri": "https://localhost:8080/"
        },
        "id": "xbkmb1GVcfuQ",
        "outputId": "72c493e1-aae9-47be-eee2-9c4ceaa10ae7"
      },
      "source": [
        "import hashlib\n",
        "from hashlib import blake2b,sha3_256,sha3_512\n",
        "str = input('Enter string: ')\n",
        "print(\"1st algorithm(blake2b)  : \" ,blake2b(str.encode()).hexdigest())\n",
        "print(\"2st algorithm(sha3_256) : \",hashlib.sha3_256(str.encode()).hexdigest())\n",
        "print(\"3st algorithm(sha3_512) : \",hashlib.sha3_512(str.encode()).hexdigest())"
      ],
      "execution_count": 43,
      "outputs": [
        {
          "output_type": "stream",
          "text": [
            "Enter string: fenil\n",
            "1st algorithm(blake2b)  :  228e4842743983b0ee7d0ec9aee6544fe0de88573b3ecf0df724437be950794a3a588fcd884b8fad1d0759ec986f93d92ea492324f2c8071ad30afd72523bc4b\n",
            "2st algorithm(sha3_256) :  809f467bc0d6a6c1b138a75ff71f2cd3e4a6427eb1c49b312bb3c5caa70c3b45\n",
            "3st algorithm(sha3_512) :  80648251c4d5c62fd3fc5bc9aad7382ac164bea1c8939e78d4f2064a8b70fd938a8466e8e8f336ba496561bf1cf071e284de0f053ab51318c6cea7c5dbb9693c\n"
          ],
          "name": "stdout"
        }
      ]
    },
    {
      "cell_type": "markdown",
      "metadata": {
        "id": "KSpcn8WPrSTp"
      },
      "source": [
        "3) Add salting & Iteration to your hashes"
      ]
    },
    {
      "cell_type": "code",
      "metadata": {
        "colab": {
          "base_uri": "https://localhost:8080/"
        },
        "id": "NDhLAv0ukzZS",
        "outputId": "3e53ef21-d17a-4804-dcf7-d21984dde099"
      },
      "source": [
        "import os\n",
        "from hashlib import blake2b\n",
        "\n",
        "msg = b'fenil shah Nitesh bhai'\n",
        "salt1 = os.urandom(blake2b.SALT_SIZE)\n",
        "h1 = blake2b(salt=salt1)\n",
        "h1.update(msg)\n",
        "salt2 = os.urandom(blake2b.SALT_SIZE)\n",
        "h2 = blake2b(salt=salt2)\n",
        "h2.update(msg)\n",
        "print(h1.digest() != h2.digest())"
      ],
      "execution_count": 42,
      "outputs": [
        {
          "output_type": "stream",
          "text": [
            "True\n"
          ],
          "name": "stdout"
        }
      ]
    }
  ]
}